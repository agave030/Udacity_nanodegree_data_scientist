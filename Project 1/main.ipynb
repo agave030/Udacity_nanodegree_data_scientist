{
 "cells": [
  {
   "cell_type": "markdown",
   "metadata": {},
   "source": [
    "## The Description from Udacity\n",
    "For this project, you will pick a dataset. Inspired by Robert, there are a few public datasets from AirBnB available below, but you may also choose a dataset similar to what was used in the lessons, or an entirely different dataset. Using your dataset, you will choose 3 questions you aspire to answer from the data.\n",
    "\n",
    "1. Pick a dataset.\n",
    "\n",
    "2. Pose at least three questions related to business or real-world applications of how the data could be used.\n",
    "\n",
    "3. Create a Jupyter Notebook, using any associated packages you'd like, to:\n",
    "    - Prepare data:\n",
    "        - Gather necessary data to answer your questions\n",
    "        - Handle categorical and missing data\n",
    "        - Provide insight into the methods you chose and why you chose them\n",
    "    - Analyze, Model, and Visualize\n",
    "        - Provide a clear connection between your business questions and how the data answers them.\n",
    "4. Communicate your business insights:\n",
    "\n",
    "- Create a Github repository to share your code and data wrangling/modeling techniques, with a technical audience in mind. \n",
    "- Create a blog post to share your questions and insights with a non-technical audience. \n",
    "\n",
    "Your deliverables will be a Github repo and a blog post. Use the rubric here to assist in successfully completing this project!"
   ]
  },
  {
   "cell_type": "markdown",
   "metadata": {},
   "source": [
    "## The Description from Kaggle(Data Resource)\n",
    "\n",
    "Every year, Stack Overflow conducts a massive survey of people on the site, covering all sorts of information like programming languages, salary, code style and various other information. This year, they amassed more than 64,000 responses fielded from 213 countries.\n",
    "\n",
    "The data is made up of two files:\n",
    "\n",
    "- survey_results_public.csv - CSV file with main survey results, one respondent per row and one column per answer\n",
    "- survey_results_schema.csv - CSV file with survey schema, i.e., the questions that correspond to each column name\n",
    "m"
   ]
  },
  {
   "cell_type": "markdown",
   "metadata": {},
   "source": [
    "# First Step: Data understanding. Try to define the questions."
   ]
  },
  {
   "cell_type": "code",
   "execution_count": 1,
   "metadata": {},
   "outputs": [],
   "source": [
    "# import package\n",
    "import pandas as pd\n",
    "import numpy as np\n",
    "import matplotlib.pyplot as plt"
   ]
  },
  {
   "cell_type": "code",
   "execution_count": 26,
   "metadata": {},
   "outputs": [],
   "source": [
    "# variable definition\n",
    "survey_result = pd.read_csv(\"Stack Overflow Developer Survey, 2017/survey_results_public.csv\")\n",
    "survet_schema = pd.read_csv(\"Stack Overflow Developer Survey, 2017/survey_results_schema.csv\")\n"
   ]
  },
  {
   "cell_type": "code",
   "execution_count": 25,
   "metadata": {},
   "outputs": [
    {
     "data": {
      "text/plain": [
       "Index(['Respondent', 'Professional', 'ProgramHobby', 'Country', 'University',\n",
       "       'EmploymentStatus', 'FormalEducation', 'MajorUndergrad', 'HomeRemote',\n",
       "       'CompanySize',\n",
       "       ...\n",
       "       'StackOverflowMakeMoney', 'Gender', 'HighestEducationParents', 'Race',\n",
       "       'SurveyLong', 'QuestionsInteresting', 'QuestionsConfusing',\n",
       "       'InterestedAnswers', 'Salary', 'ExpectedSalary'],\n",
       "      dtype='object', length=154)"
      ]
     },
     "execution_count": 25,
     "metadata": {},
     "output_type": "execute_result"
    }
   ],
   "source": [
    "survey_result.columns"
   ]
  },
  {
   "cell_type": "code",
   "execution_count": null,
   "metadata": {},
   "outputs": [],
   "source": []
  }
 ],
 "metadata": {
  "kernelspec": {
   "display_name": "Python 3",
   "language": "python",
   "name": "python3"
  },
  "language_info": {
   "codemirror_mode": {
    "name": "ipython",
    "version": 3
   },
   "file_extension": ".py",
   "mimetype": "text/x-python",
   "name": "python",
   "nbconvert_exporter": "python",
   "pygments_lexer": "ipython3",
   "version": "3.8.5"
  }
 },
 "nbformat": 4,
 "nbformat_minor": 4
}
